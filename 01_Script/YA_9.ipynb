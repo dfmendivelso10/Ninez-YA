{
 "cells": [
  {
   "cell_type": "markdown",
   "metadata": {},
   "source": [
    "### -----------------------------------------------\n",
    "#### YA 9 SRPA \n",
    "### -----------------------------------------------"
   ]
  },
  {
   "cell_type": "code",
   "execution_count": 1,
   "metadata": {},
   "outputs": [],
   "source": [
    "\n",
    "# Librerías y Paquetes\n",
    "\n",
    "import pandas as pd\n",
    "\n",
    "# Importamos los Datos\n",
    "\n",
    "\n",
    "                            \n",
    "denominador = pd.read_excel('/Users/daniel/Documents/GitHub/Ninez-YA/02_RAW-Data/ICBF_SRPA.xlsx', sheet_name= \"base\")\n",
    "                           \n",
    "ICBF = pd.read_excel('/Users/daniel/Documents/GitHub/Ninez-YA/02_RAW-Data/ICBF_SRPA.xlsx', sheet_name=\"SRPA_1\")\n",
    "\n",
    "ICBF_2 = pd.read_excel('/Users/daniel/Documents/GitHub/Ninez-YA/02_RAW-Data/ICBF_SRPA.xlsx', sheet_name= \"SRPA_2\")\n",
    "\n",
    "ICBF_Punto1 = pd.read_excel('/Users/daniel/Documents/GitHub/Ninez-YA/02_RAW-Data/ICBF_SRPA.xlsx', sheet_name= \"Punto_1\")\n",
    "\n",
    "codmpio = pd.read_excel('/Users/daniel/Documents/GitHub/Ninez-YA/02_RAW-Data/codmpio.xlsx')\n",
    "\n",
    "educacion = pd.read_excel('/Users/daniel/Documents/GitHub/Ninez-YA/02_RAW-Data/ICBF_SRPA.xlsx', sheet_name= \"educacion\")\n",
    "\n",
    "trabajo = pd.read_excel('/Users/daniel/Documents/GitHub/Ninez-YA/02_RAW-Data/ICBF_SRPA.xlsx', sheet_name= \"trabajo\")\n",
    "\n"
   ]
  },
  {
   "cell_type": "markdown",
   "metadata": {},
   "source": [
    "## Denominador ICBF"
   ]
  },
  {
   "cell_type": "code",
   "execution_count": 2,
   "metadata": {},
   "outputs": [
    {
     "name": "stderr",
     "output_type": "stream",
     "text": [
      "/var/folders/32/_526csnd2xq7ky9xpy_rw_8r0000gn/T/ipykernel_28776/3333160901.py:16: FutureWarning: The default value of numeric_only in DataFrameGroupBy.sum is deprecated. In a future version, numeric_only will default to False. Either specify numeric_only or select only columns which should be valid for the function.\n",
      "  denominador_ICBF = denominador_ICBF.groupby('codmpio').sum().reset_index()\n"
     ]
    }
   ],
   "source": [
    "# Limpiar, normalizar y reemplazar valores específicos en 'Departamento'\n",
    "\n",
    "denominador['Departamento'] = denominador['Departamento'].str.strip().str.upper().replace({\"VALLE DEL CAUCA\": \"VALLE\", \"LA GUAJIRA\": \"GUAJIRA\"})\n",
    "codmpio['Departamento'] = codmpio['Departamento'].str.strip().str.upper()\n",
    "\n",
    "# Realizar el merge\n",
    "\n",
    "denominador_ICBF = denominador.merge(codmpio[['Departamento', 'codmpio']], on='Departamento', how='left')\n",
    "\n",
    "# Limpiamos la Base de Denominadores\n",
    "\n",
    "denominador_ICBF = denominador_ICBF.dropna(subset=['codmpio'])\n",
    "\n",
    "# Agrupar por 'codmpio' y sumar las columnas numéricas\n",
    "\n",
    "denominador_ICBF = denominador_ICBF.groupby('codmpio').sum().reset_index()\n"
   ]
  },
  {
   "cell_type": "markdown",
   "metadata": {},
   "source": [
    "## Numeradores ICBF"
   ]
  },
  {
   "cell_type": "code",
   "execution_count": 2,
   "metadata": {},
   "outputs": [],
   "source": [
    "### Educación\n",
    "\n",
    "# Limpiar, normalizar y reemplazar valores específicos en 'Departamento'\n",
    "\n",
    "educacion['Departamento'] = educacion['Departamento'].str.strip().str.upper().replace({\"VALLE DEL CAUCA\": \"VALLE\", \"LA GUAJIRA\": \"GUAJIRA\"})\n",
    "codmpio['Departamento'] = codmpio['Departamento'].str.strip().str.upper()\n",
    "\n",
    "# Realizar el merge\n",
    "educacion_numerador = educacion.merge(codmpio[['Departamento', 'codmpio']], on='Departamento', how='left')\n",
    "\n",
    "\n",
    "\n"
   ]
  },
  {
   "cell_type": "code",
   "execution_count": 2,
   "metadata": {},
   "outputs": [],
   "source": [
    "### Trabajo\n",
    "\n",
    "# Limpiar, normalizar y reemplazar valores específicos en 'Departamento'\n",
    "\n",
    "trabajo['Departamento'] = trabajo['Departamento'].str.strip().str.upper().replace({\"VALLE DEL CAUCA\": \"VALLE\", \"LA GUAJIRA\": \"GUAJIRA\"})\n",
    "codmpio['Departamento'] = codmpio['Departamento'].str.strip().str.upper()\n",
    "\n",
    "# Realizar el merge\n",
    "\n",
    "trabajo_numerador = trabajo.merge(codmpio[['Departamento', 'codmpio']], on='Departamento', how='left')\n",
    "\n",
    "# Limpiamos la Base de Denominadores\n",
    "\n",
    "trabajo_numerador = trabajo_numerador.dropna(subset=['codmpio'])\n",
    "\n",
    "# Agrupar por 'codmpio' y sumar las columnas numéricas\n",
    "\n",
    "trabajo_numerador = trabajo_numerador.groupby('codmpio').sum().reset_index()"
   ]
  }
 ],
 "metadata": {
  "kernelspec": {
   "display_name": ".venv",
   "language": "python",
   "name": "python3"
  },
  "language_info": {
   "codemirror_mode": {
    "name": "ipython",
    "version": 3
   },
   "file_extension": ".py",
   "mimetype": "text/x-python",
   "name": "python",
   "nbconvert_exporter": "python",
   "pygments_lexer": "ipython3",
   "version": "3.9.19"
  }
 },
 "nbformat": 4,
 "nbformat_minor": 2
}
