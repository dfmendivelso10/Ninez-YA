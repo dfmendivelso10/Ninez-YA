{
 "cells": [
  {
   "cell_type": "markdown",
   "metadata": {},
   "source": [
    "### -----------------------------------------------\n",
    "#### YA 8  \n",
    "### -----------------------------------------------"
   ]
  },
  {
   "cell_type": "code",
   "execution_count": 2,
   "metadata": {},
   "outputs": [],
   "source": [
    "\n",
    "# Librerías y Paquetes\n",
    "\n",
    "import pandas as pd\n",
    "\n",
    "# Importamos los Datos\n",
    "\n",
    "\n",
    "ICBF = pd.read_excel('/Users/daniel/Documents/GitHub/Ninez-YA/02_RAW-Data/ICBF_SRPA.xlsx', sheet_name= \"SRPA_1\")\n",
    "\n",
    "ICBF_2 = pd.read_excel('/Users/daniel/Documents/GitHub/Ninez-YA/02_RAW-Data/ICBF_SRPA.xlsx', sheet_name= \"SRPA_2\")\n",
    "\n",
    "ICBF_4 = pd.read_excel('/Users/daniel/Documents/GitHub/Ninez-YA/02_RAW-Data/ICBF_SRPA.xlsx', sheet_name= \"SRPA_4\")\n",
    "\n",
    "codmpio = pd.read_excel('/Users/daniel/Documents/GitHub/Ninez-YA/02_RAW-Data/codmpio.xlsx')\n",
    "\n",
    "\n"
   ]
  },
  {
   "cell_type": "code",
   "execution_count": 2,
   "metadata": {},
   "outputs": [],
   "source": [
    "# Limpiar, normalizar y reemplazar valores específicos en 'Departamento'\n",
    "ICBF['Departamento'] = ICBF['Departamento'].str.strip().str.upper().replace({\"VALLE DEL CAUCA\": \"VALLE\", \"LA GUAJIRA\": \"GUAJIRA\"})\n",
    "codmpio['Departamento'] = codmpio['Departamento'].str.strip().str.upper()\n",
    "\n",
    "# Realizar el merge\n",
    "merged_result = ICBF.merge(codmpio[['Departamento', 'codmpio']], on='Departamento', how='left')\n",
    "\n"
   ]
  },
  {
   "cell_type": "code",
   "execution_count": 4,
   "metadata": {},
   "outputs": [],
   "source": [
    "# Limpiar, normalizar y reemplazar valores específicos en 'Departamento'\n",
    "ICBF_2['Departamento'] = ICBF_2['Departamento'].str.strip().str.upper().replace({\"VALLE DEL CAUCA\": \"VALLE\", \"LA GUAJIRA\": \"GUAJIRA\"})\n",
    "codmpio['Departamento'] = codmpio['Departamento'].str.strip().str.upper()\n",
    "\n",
    "# Realizar el merge\n",
    "merged_result2 = ICBF_2.merge(codmpio[['Departamento', 'codmpio']], on='Departamento', how='left')\n",
    "\n"
   ]
  },
  {
   "cell_type": "code",
   "execution_count": 6,
   "metadata": {},
   "outputs": [],
   "source": [
    "# Limpiar, normalizar y reemplazar valores específicos en 'Departamento'\n",
    "ICBF_4['Departamento'] = ICBF_4['Departamento'].str.strip().str.upper().replace({\"VALLE DEL CAUCA\": \"VALLE\", \"LA GUAJIRA\": \"GUAJIRA\"})\n",
    "codmpio['Departamento'] = codmpio['Departamento'].str.strip().str.upper()\n",
    "\n",
    "# Realizar el merge\n",
    "merged_result4 = ICBF_4.merge(codmpio[['Departamento', 'codmpio']], on='Departamento', how='left')\n"
   ]
  }
 ],
 "metadata": {
  "kernelspec": {
   "display_name": ".venv",
   "language": "python",
   "name": "python3"
  },
  "language_info": {
   "codemirror_mode": {
    "name": "ipython",
    "version": 3
   },
   "file_extension": ".py",
   "mimetype": "text/x-python",
   "name": "python",
   "nbconvert_exporter": "python",
   "pygments_lexer": "ipython3",
   "version": "3.9.6"
  }
 },
 "nbformat": 4,
 "nbformat_minor": 2
}
